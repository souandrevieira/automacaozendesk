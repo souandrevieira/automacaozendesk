{
 "cells": [
  {
   "cell_type": "code",
   "execution_count": 1,
   "metadata": {},
   "outputs": [],
   "source": [
    "import pandas as pd\n"
   ]
  },
  {
   "cell_type": "code",
   "execution_count": 28,
   "metadata": {},
   "outputs": [
    {
     "data": {
      "text/plain": [
       "pandas.core.frame.DataFrame"
      ]
     },
     "metadata": {},
     "output_type": "display_data"
    },
    {
     "data": {
      "text/plain": [
       "{'Nested_Column': Cell1       A  B\n",
       " 0  1  3\n",
       " 1  2  4\n",
       " Cell2       C  D\n",
       " 0  5  7\n",
       " 1  6  8\n",
       " Name: Nested_Column, dtype: object,\n",
       " 'Dado normal': Cell1    Teste\n",
       " Cell2    Teste\n",
       " Name: Dado normal, dtype: object}"
      ]
     },
     "metadata": {},
     "output_type": "display_data"
    }
   ],
   "source": [
    "df1 = pd.DataFrame({'A': [1, 2], 'B': [3, 4]})\n",
    "df2 = pd.DataFrame({'C': [5, 6], 'D': [7, 8]})\n",
    "\n",
    "# Criar um dicionário onde uma célula contém outro dataframe\n",
    "nested_dataframes = {'Cell1': df1, 'Cell2': df2}\n",
    "\n",
    "# Criar um dataframe principal usando o dicionário\n",
    "main_dataframe = pd.DataFrame({'Nested_Column': nested_dataframes})\n",
    "\n",
    "main_dataframe['Dado normal'] = 'Teste'\n",
    "display(type(main_dataframe))\n",
    "\n",
    "dict_main_dataframe = dict(main_dataframe)\n",
    "display(dict_main_dataframe)"
   ]
  }
 ],
 "metadata": {
  "kernelspec": {
   "display_name": "Python 3",
   "language": "python",
   "name": "python3"
  },
  "language_info": {
   "codemirror_mode": {
    "name": "ipython",
    "version": 3
   },
   "file_extension": ".py",
   "mimetype": "text/x-python",
   "name": "python",
   "nbconvert_exporter": "python",
   "pygments_lexer": "ipython3",
   "version": "3.11.3"
  }
 },
 "nbformat": 4,
 "nbformat_minor": 2
}
